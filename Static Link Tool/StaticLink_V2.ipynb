{
 "cells": [
  {
   "cell_type": "code",
   "execution_count": 114,
   "metadata": {},
   "outputs": [],
   "source": [
    "import math"
   ]
  },
  {
   "cell_type": "code",
   "execution_count": 115,
   "metadata": {},
   "outputs": [],
   "source": [
    "calculation_mode = 'LinkMargin' # LinkMargin, DataRate, Distance, EIRP, G/T, TxPower, TxGain, RxGain"
   ]
  },
  {
   "cell_type": "code",
   "execution_count": 116,
   "metadata": {},
   "outputs": [],
   "source": [
    "location = ['space','space']"
   ]
  },
  {
   "cell_type": "code",
   "execution_count": 172,
   "metadata": {},
   "outputs": [],
   "source": [
    "RFParams = {'tx_mode': 'EIRP',\n",
    "            'rx_mode': 'G/T',\n",
    "            'TxInput': 55.11,\n",
    "            'Frequency': 26,\n",
    "            'RxInput': 46.24,\n",
    "            'Modulation': 'BPSK',\n",
    "            'Coding': 'Uncoded',\n",
    "            'DataRate': 10,\n",
    "            'Bandwidth': 1500,\n",
    "            'AddGainLoss': 0,\n",
    "            'MultipleAccessLoss': 0,\n",
    "            'ReqBER': 1*10**-6,\n",
    "            'LinkMargin': 3}"
   ]
  },
  {
   "cell_type": "code",
   "execution_count": 173,
   "metadata": {},
   "outputs": [],
   "source": [
    "LOSParams = {'Distance': 400000,\n",
    "             'ElevationAngle':10}"
   ]
  },
  {
   "cell_type": "code",
   "execution_count": 174,
   "metadata": {},
   "outputs": [],
   "source": [
    "GndParams = {'Latitude':0,\n",
    "             'Longitude':0,\n",
    "             'Altitude':0,\n",
    "             'CD':0.95,\n",
    "             'TimeOfYear': None}"
   ]
  },
  {
   "cell_type": "code",
   "execution_count": 175,
   "metadata": {},
   "outputs": [],
   "source": [
    "PhysicalConstants = {'c': 299792458,\n",
    "                     'kB': 1.380649*10**-23}"
   ]
  },
  {
   "cell_type": "code",
   "execution_count": 176,
   "metadata": {},
   "outputs": [],
   "source": [
    "def calc_EIRP(RFParams):\n",
    "    if RFParams['tx_mode'] == 'EIRP':\n",
    "        return RFParams['TxInput']\n",
    "    elif RFParams['tx_mode'] == 'Separate':\n",
    "        return 10*math.log10(RFParams['TxInput'][0]) + RFParams['TxInput'][1] + RFParams['TxInput'][2] + RFParams['TxInput'][3]\n",
    "    else:\n",
    "        print('Oops')"
   ]
  },
  {
   "cell_type": "code",
   "execution_count": 177,
   "metadata": {},
   "outputs": [],
   "source": [
    "def calc_free_space_loss(RFParams, LOSParams, PhysicalConstants):\n",
    "    return 10*math.log10((4*math.pi*LOSParams['Distance']*1000 * RFParams['Frequency']*1*10**9 / PhysicalConstants['c'])**2)"
   ]
  },
  {
   "cell_type": "code",
   "execution_count": 185,
   "metadata": {},
   "outputs": [],
   "source": [
    "def calc_atm_loss():\n",
    "    return 0"
   ]
  },
  {
   "cell_type": "code",
   "execution_count": 186,
   "metadata": {},
   "outputs": [],
   "source": [
    "def calc_GoT(RFParams):\n",
    "    if RFParams['rx_mode'] == 'G/T':\n",
    "        return RFParams['RxInput']\n",
    "    elif RFParams['rx_mode'] == 'Separate':\n",
    "        return RFParams['RxInput'][0] - 10*math.log10(RFParams['RxInput'][1]) + RFParams['RxInput'][2] + RFParams['RxInput'][3]"
   ]
  },
  {
   "cell_type": "code",
   "execution_count": 190,
   "metadata": {},
   "outputs": [],
   "source": [
    "def calc_EBN0(RFParams, LOSParams, PhysicalConstants):\n",
    "    EIRP = calc_EIRP(RFParams)\n",
    "    free_space_loss = calc_free_space_loss(RFParams, LOSParams, PhysicalConstants)\n",
    "    atm_loss = calc_atm_loss()\n",
    "    GoT = calc_GoT(RFParams)\n",
    "    kB = 10*math.log10(PhysicalConstants['kB'])\n",
    "    dataRate = 10*math.log10(RFParams['DataRate']*1000000)\n",
    "    \n",
    "    return EIRP - free_space_loss - atm_loss + GoT - kB - dataRate"
   ]
  },
  {
   "cell_type": "code",
   "execution_count": 191,
   "metadata": {},
   "outputs": [
    {
     "data": {
      "text/plain": [
       "27.160717165358733"
      ]
     },
     "execution_count": 191,
     "metadata": {},
     "output_type": "execute_result"
    }
   ],
   "source": [
    "calc_EBN0(RFParams, LOSParams, PhysicalConstants)"
   ]
  },
  {
   "cell_type": "code",
   "execution_count": null,
   "metadata": {},
   "outputs": [],
   "source": []
  },
  {
   "cell_type": "code",
   "execution_count": 8,
   "metadata": {},
   "outputs": [],
   "source": [
    "import csv"
   ]
  },
  {
   "cell_type": "code",
   "execution_count": 9,
   "metadata": {},
   "outputs": [
    {
     "name": "stdout",
     "output_type": "stream",
     "text": [
      "0.01\n"
     ]
    }
   ],
   "source": [
    "def find_atm_absorb(network, site, antenna, Frequency, Angle, CD, filename):\n",
    "    with open(filename, 'r') as infile:\n",
    "        reader = csv.reader(infile)\n",
    "        next(reader)\n",
    "        for line in reader:\n",
    "            if [network, site, antenna, Frequency, Angle, CD] == line[:6]:\n",
    "                return line[6]\n",
    "\n",
    "print(find_atm_absorb('NEN', 'Wallops', 'WGS 11.3 M', 'S', '5', '0.99', 'atmoshperic_absorption.csv'))"
   ]
  },
  {
   "cell_type": "code",
   "execution_count": null,
   "metadata": {},
   "outputs": [],
   "source": []
  },
  {
   "cell_type": "code",
   "execution_count": null,
   "metadata": {},
   "outputs": [],
   "source": []
  }
 ],
 "metadata": {
  "kernelspec": {
   "display_name": "Python 3",
   "language": "python",
   "name": "python3"
  },
  "language_info": {
   "codemirror_mode": {
    "name": "ipython",
    "version": 3
   },
   "file_extension": ".py",
   "mimetype": "text/x-python",
   "name": "python",
   "nbconvert_exporter": "python",
   "pygments_lexer": "ipython3",
   "version": "3.8.5"
  }
 },
 "nbformat": 4,
 "nbformat_minor": 4
}
