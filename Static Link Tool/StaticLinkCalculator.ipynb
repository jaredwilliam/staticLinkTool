{
 "cells": [
  {
   "cell_type": "markdown",
   "metadata": {},
   "source": [
    "# Imports"
   ]
  },
  {
   "cell_type": "code",
   "execution_count": 5,
   "metadata": {},
   "outputs": [],
   "source": [
    "import math"
   ]
  },
  {
   "cell_type": "markdown",
   "metadata": {},
   "source": [
    "# Physical Constants"
   ]
  },
  {
   "cell_type": "code",
   "execution_count": 6,
   "metadata": {},
   "outputs": [],
   "source": [
    "c = 299792458 # m/s\n",
    "k = 1.38064852*10**-23 # m^2 * kg * s^-2 * K^-1\n",
    "Earth_radius = 6378.14 # km\n",
    "ref_temp = 293 # K\n",
    "beamwidth_factor = 70"
   ]
  },
  {
   "cell_type": "markdown",
   "metadata": {},
   "source": [
    "# Link Parameters"
   ]
  },
  {
   "cell_type": "code",
   "execution_count": 7,
   "metadata": {},
   "outputs": [],
   "source": [
    "freq = 26*10**9 # Hz\n",
    "wavelength = c/freq"
   ]
  },
  {
   "cell_type": "markdown",
   "metadata": {},
   "source": [
    "# Transmitting Parameters"
   ]
  },
  {
   "cell_type": "code",
   "execution_count": 8,
   "metadata": {},
   "outputs": [],
   "source": [
    "# Tranmitting Node\n",
    "power = 10 # watts\n",
    "tx_diameter = 1 # meters\n",
    "tx_line_loss = 1 # dB\n",
    "tx_efficiency = 0.55\n",
    "tx_gain = 10*math.log(tx_efficiency, 10) + 20*math.log(math.pi * tx_diameter * freq / c, 10) # dB\n",
    "eirp = 10*math.log(power,10) - tx_line_loss + tx_gain # dBW\n",
    "tx_hpbw = 21 / (freq*tx_diameter*1*10**-9)"
   ]
  },
  {
   "cell_type": "markdown",
   "metadata": {},
   "source": [
    "# Propagating Segment"
   ]
  },
  {
   "cell_type": "code",
   "execution_count": 9,
   "metadata": {},
   "outputs": [],
   "source": [
    "slant_range = 400000000 # meters\n",
    "free_space_loss = 10*math.log((4*math.pi*slant_range*freq/c)**2, 10) # dB\n",
    "atm_loss = 15 # dB\n",
    "total_prop_loss = free_space_loss + atm_loss"
   ]
  },
  {
   "cell_type": "markdown",
   "metadata": {},
   "source": [
    "# Receiving Node"
   ]
  },
  {
   "cell_type": "code",
   "execution_count": 10,
   "metadata": {},
   "outputs": [],
   "source": [
    "rx_diameter = 18 # meters\n",
    "rx_line_loss = -1 # dB\n",
    "rx_efficiency = 0.55\n",
    "rx_gain = 10*math.log(rx_efficiency, 10) + 20*math.log(math.pi * rx_diameter * freq / c, 10) # dB\n",
    "system_noise_temp = 250 # Kelvin\n",
    "g_over_T = rx_gain - 10*math.log(system_noise_temp,10) + rx_line_loss"
   ]
  },
  {
   "cell_type": "markdown",
   "metadata": {},
   "source": [
    "# Data Segment"
   ]
  },
  {
   "cell_type": "code",
   "execution_count": 11,
   "metadata": {},
   "outputs": [],
   "source": [
    "data_rate = 10000000 # bps, 10 Mbps\n",
    "ber = 1*10**-6\n",
    "modulation_dict = {'BPSK':1, 'QPSK':2}\n",
    "modulation = 'QPSK'\n",
    "mod_factor = modulation_dict[modulation]\n",
    "coding = 'LDPC'\n",
    "code_rate = 1/2\n",
    "filter_factor = 0.2\n",
    "occupied_bandwidth = (1+filter_factor) * data_rate / (mod_factor * code_rate)\n",
    "theoretical_req_ebno = 0.92\n",
    "implementation_loss = 0\n",
    "req_ebno = theoretical_req_ebno + implementation_loss\n",
    "req_link_margin = 3"
   ]
  },
  {
   "cell_type": "markdown",
   "metadata": {},
   "source": [
    "# Results"
   ]
  },
  {
   "cell_type": "code",
   "execution_count": 12,
   "metadata": {},
   "outputs": [],
   "source": [
    "calculated_ebno = eirp - total_prop_loss + g_over_T - 10*math.log(k,10) - 10*math.log(data_rate,10)\n",
    "link_margin = calculated_ebno - req_ebno\n",
    "excess_link_margin = link_margin - req_link_margin"
   ]
  },
  {
   "cell_type": "code",
   "execution_count": 13,
   "metadata": {},
   "outputs": [
    {
     "name": "stdout",
     "output_type": "stream",
     "text": [
      "Transmitting Segment\n",
      "Frequency:......... 26000 MHz\n",
      "Power:............. 10 W\n",
      "Diameter........... 1 m\n",
      "Line Loss:......... 1 dB\n",
      "Efficiency:........ 55 %\n",
      "Gain:.............. 46.11 dBi\n",
      "EIRP:.............. 55.11 dBW\n",
      "HPBW:.............. 0.81 deg\n",
      "\n",
      "\n",
      "Propagation Segment\n",
      "Slant Range:....... 400000 km\n",
      "Free Space Loss:... 232.79 dB\n",
      "Atmospheric Loss:.. 15 dB\n",
      "Propagation Loss:.. -247.79 dB\n",
      "\n",
      "\n",
      "Receiving Segment\n",
      "G/T:............... 46.24\n",
      "\n",
      "\n",
      "Data Segment\n",
      "Data Rate:......... 10.0\n",
      "\n",
      "\n",
      "Results\n",
      "Req Eb/No:......... 0.92\n",
      "Calc Eb/No:........ 12.16\n",
      "Link Margin:....... 11.24\n",
      "Req Link Margin:... 3\n",
      "Excess Link Margin: 8.24\n"
     ]
    }
   ],
   "source": [
    "print('Transmitting Segment')\n",
    "print('Frequency:......... {} MHz'.format(round(freq/1000000)))\n",
    "print('Power:............. {} W'.format(round(power,2)))\n",
    "print('Diameter........... {} m'.format(tx_diameter))\n",
    "print('Line Loss:......... {} dB'.format(tx_line_loss))\n",
    "print('Efficiency:........ {} %'.format(round(tx_efficiency*100)))\n",
    "print('Gain:.............. {} dBi'.format(round(tx_gain,2)))\n",
    "print('EIRP:.............. {} dBW'.format(round(eirp,2)))\n",
    "print('HPBW:.............. {} deg'.format(round(tx_hpbw,2)))\n",
    "print('\\n')\n",
    "print('Propagation Segment')\n",
    "print('Slant Range:....... {} km'.format(round(slant_range/1000)))\n",
    "print('Free Space Loss:... {} dB'.format(round(free_space_loss,2)))\n",
    "print('Atmospheric Loss:.. {} dB'.format(atm_loss))\n",
    "print('Propagation Loss:.. {} dB'.format(round(-total_prop_loss,2)))\n",
    "print('\\n')\n",
    "print('Receiving Segment')\n",
    "print('G/T:............... {}'.format(round(g_over_T,2)))\n",
    "print('\\n')\n",
    "print('Data Segment')\n",
    "print('Data Rate:......... {}'.format(data_rate/1000000))\n",
    "print('\\n')\n",
    "print('Results')\n",
    "print('Req Eb/No:......... {}'.format(req_ebno))\n",
    "print('Calc Eb/No:........ {}'.format(round(calculated_ebno,2)))\n",
    "print('Link Margin:....... {}'.format(round(link_margin,2)))\n",
    "print('Req Link Margin:... {}'.format(round(req_link_margin,2)))\n",
    "print('Excess Link Margin: {}'.format(round(excess_link_margin,2)))"
   ]
  },
  {
   "cell_type": "code",
   "execution_count": null,
   "metadata": {},
   "outputs": [],
   "source": []
  },
  {
   "cell_type": "code",
   "execution_count": null,
   "metadata": {},
   "outputs": [],
   "source": []
  },
  {
   "cell_type": "code",
   "execution_count": 3,
   "metadata": {},
   "outputs": [],
   "source": []
  },
  {
   "cell_type": "code",
   "execution_count": 5,
   "metadata": {},
   "outputs": [
    {
     "name": "stdout",
     "output_type": "stream",
     "text": [
      "five\n"
     ]
    }
   ],
   "source": [
    "EIRP(5,4,5,4,3)"
   ]
  },
  {
   "cell_type": "code",
   "execution_count": null,
   "metadata": {},
   "outputs": [],
   "source": []
  },
  {
   "cell_type": "code",
   "execution_count": null,
   "metadata": {},
   "outputs": [],
   "source": []
  },
  {
   "cell_type": "code",
   "execution_count": 78,
   "metadata": {},
   "outputs": [],
   "source": [
    "import math \n",
    "c = 299792458\n",
    "class Antenna():\n",
    "\n",
    "    def __init__(self, name, frequency, diameter, efficiency = 0.55, power = 0, losses = 0, EIRP = 0):\n",
    "        self.name = name\n",
    "        self.frequency = frequency\n",
    "        self.diameter = diameter\n",
    "        self.efficiency = efficiency\n",
    "        self.gain = 10*math.log(self.efficiency, 10) + 20*math.log(math.pi * diameter * frequency / c, 10)\n",
    "        self.power = 0\n",
    "        self.losses = 0\n",
    "        self.EIRP = 0\n",
    "    \n",
    "    def set_power(self, power):\n",
    "        self.power = power\n",
    "    \n",
    "    def get_power(self):\n",
    "        return self.power\n",
    "    \n",
    "    def set_gain(self,gain):\n",
    "        self.gain = gain\n",
    "    \n",
    "    def get_gain(self):\n",
    "        return self.gain\n",
    "    \n",
    "    def set_losses(self, losses):\n",
    "        self.losses = losses\n",
    "        \n",
    "    def get_losses(self):\n",
    "        return self.losses\n",
    "    \n",
    "#     def set_EIRP(self):\n",
    "#         self.EIRP = \n",
    "    \n",
    "    def get_EIRP(self):\n",
    "        return self.EIRP\n"
   ]
  },
  {
   "cell_type": "code",
   "execution_count": 79,
   "metadata": {},
   "outputs": [],
   "source": [
    "ant = Antenna('ant1', frequency = 26*10**9, diameter = 1)"
   ]
  },
  {
   "cell_type": "code",
   "execution_count": 80,
   "metadata": {},
   "outputs": [
    {
     "name": "stdout",
     "output_type": "stream",
     "text": [
      "three\n"
     ]
    }
   ],
   "source": [
    "ant.set_EIRP(24.659,10,1)"
   ]
  },
  {
   "cell_type": "code",
   "execution_count": 83,
   "metadata": {},
   "outputs": [
    {
     "data": {
      "text/plain": [
       "46.109677249682925"
      ]
     },
     "execution_count": 83,
     "metadata": {},
     "output_type": "execute_result"
    }
   ],
   "source": [
    "ant.gain"
   ]
  },
  {
   "cell_type": "code",
   "execution_count": null,
   "metadata": {},
   "outputs": [],
   "source": []
  },
  {
   "cell_type": "code",
   "execution_count": null,
   "metadata": {},
   "outputs": [],
   "source": []
  },
  {
   "cell_type": "code",
   "execution_count": null,
   "metadata": {},
   "outputs": [],
   "source": []
  },
  {
   "cell_type": "code",
   "execution_count": null,
   "metadata": {},
   "outputs": [],
   "source": [
    "class Antenna():\n",
    "    \n",
    "    def __init__(self, name, type = None):\n",
    "        self.name = name\n",
    "        \n",
    "        if type == 'Parabolic':\n",
    "            pass\n",
    "        elif type == 'Helix':\n",
    "            pass\n",
    "        elif type == 'Horn':\n",
    "            pass\n",
    "        elif type == 'Array':\n",
    "            pass\n",
    "        else: # type is None\n",
    "            pass"
   ]
  }
 ],
 "metadata": {
  "kernelspec": {
   "display_name": "Python 3",
   "language": "python",
   "name": "python3"
  },
  "language_info": {
   "codemirror_mode": {
    "name": "ipython",
    "version": 3
   },
   "file_extension": ".py",
   "mimetype": "text/x-python",
   "name": "python",
   "nbconvert_exporter": "python",
   "pygments_lexer": "ipython3",
   "version": "3.8.5"
  }
 },
 "nbformat": 4,
 "nbformat_minor": 4
}
