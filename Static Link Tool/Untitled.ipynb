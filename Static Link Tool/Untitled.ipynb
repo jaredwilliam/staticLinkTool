{
 "cells": [
  {
   "cell_type": "code",
   "execution_count": 2,
   "metadata": {},
   "outputs": [],
   "source": [
    "class Node():\n",
    "    \n",
    "    def __init__(self,name,node_type, location):\n",
    "        self.name = name\n",
    "        self.node_type = node_type\n",
    "        self.location = location\n",
    "        self.components = {}\n",
    "    \n",
    "    def __str__(self):\n",
    "        return '{} {} is located in/on {}.'.format(self.node_type, self.name, self.location)\n",
    "    \n",
    "    def add_component(self, Component):\n",
    "        self.components[Component.name] = Component"
   ]
  },
  {
   "cell_type": "code",
   "execution_count": 3,
   "metadata": {},
   "outputs": [],
   "source": [
    "class Spacecraft(Node):\n",
    "    pass"
   ]
  },
  {
   "cell_type": "code",
   "execution_count": 4,
   "metadata": {},
   "outputs": [],
   "source": [
    "class GroundStation(Node):\n",
    "    pass"
   ]
  },
  {
   "cell_type": "code",
   "execution_count": 5,
   "metadata": {},
   "outputs": [],
   "source": [
    "class Component():\n",
    "    \n",
    "    def __init__(self, name):\n",
    "        self.name = name\n",
    "    \n",
    "    def __str__(self):\n",
    "        return '{} was created!'.format(self.name)"
   ]
  },
  {
   "cell_type": "code",
   "execution_count": 6,
   "metadata": {},
   "outputs": [],
   "source": [
    "class Antenna(Component):\n",
    "    # only parabolic antennas atm\n",
    "    def __init__(self, name, diameter = None, efficiency = 0.55):\n",
    "        self.name = name\n",
    "        self.diameter = diameter\n",
    "        self.efficiency = efficiency\n",
    "        if diameter == None:\n",
    "            self.gain = 0\n",
    "        else:\n",
    "            self.gain = 10*math.log(efficiency, 10) + 20*math.log(math.pi * diameter * freq / c, 10)\n",
    "        self.power = 0\n",
    "    \n",
    "        self.tx_params = {}\n",
    "        self.rx_params = {}"
   ]
  },
  {
   "cell_type": "code",
   "execution_count": 7,
   "metadata": {},
   "outputs": [],
   "source": [
    "class Link():\n",
    "    import math\n",
    "    \n",
    "    def __init__(self, name, direction):\n",
    "        self.direction = direction\n",
    "        self.slant_range = 0 \n",
    "        self.free_space_loss = 10*math.log((4*math.pi*slant_range*freq/c)**2, 10) # dB\n",
    "        self.atm_loss = 0 # dB\n",
    "        self.total_prop_loss = free_space_loss + atm_loss"
   ]
  },
  {
   "cell_type": "code",
   "execution_count": null,
   "metadata": {},
   "outputs": [],
   "source": [
    "# Receiving Node\n",
    "rx_diameter = 18 # meters\n",
    "rx_line_loss = -1 # dB\n",
    "rx_efficiency = 0.55\n",
    "rx_gain = 10*math.log(rx_efficiency, 10) + 20*math.log(math.pi * rx_diameter * freq / c, 10) # dB\n",
    "system_noise_temp = 250 # Kelvin\n",
    "g_over_T = rx_gain - 10*math.log(system_noise_temp,10) + rx_line_loss"
   ]
  },
  {
   "cell_type": "code",
   "execution_count": null,
   "metadata": {},
   "outputs": [],
   "source": []
  }
 ],
 "metadata": {
  "kernelspec": {
   "display_name": "Python 3",
   "language": "python",
   "name": "python3"
  },
  "language_info": {
   "codemirror_mode": {
    "name": "ipython",
    "version": 3
   },
   "file_extension": ".py",
   "mimetype": "text/x-python",
   "name": "python",
   "nbconvert_exporter": "python",
   "pygments_lexer": "ipython3",
   "version": "3.8.5"
  }
 },
 "nbformat": 4,
 "nbformat_minor": 4
}
